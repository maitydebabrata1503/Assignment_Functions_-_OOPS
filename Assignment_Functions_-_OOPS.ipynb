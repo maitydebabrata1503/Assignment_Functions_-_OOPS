{
 "cells": [
  {
   "cell_type": "code",
   "execution_count": null,
   "id": "3886260a-6777-42b5-afc3-a126e09e4b5f",
   "metadata": {},
   "outputs": [],
   "source": [
    "#1. Explain the importance of Functions.\n",
    "\n",
    "i) Modularity and Code Organization\n",
    "Functions break down complex problems into smaller, manageable pieces, leading to cleaner and more organized code.\n",
    "ii) Abstraction\n",
    "Functions hide implementation details, allowing users to utilize complex functionality without understanding the underlying code.\n",
    "iii) Maintainability\n",
    "Functions make it easier to debug, maintain, and update code by isolating specific tasks.\n",
    "iv) Reusability\n",
    "Once written and tested, functions can be reused across different parts of a program or in different programs.\n",
    "v) Testing and Debugging\n",
    "Functions can be individually tested and debugged, simplifying the process of identifying and fixing issues.\n",
    "vi) Recursion\n",
    "Functions enable recursive solutions, where a function calls itself to solve problems.\n",
    "vii) Performance\n",
    "Functions can optimize performance and manage resources efficiently.\n",
    "viii) Functional Programming\n",
    "Functions support higher-order programming, allowing for techniques like map, filter, and reduce."
   ]
  },
  {
   "cell_type": "code",
   "execution_count": 1,
   "id": "4ce41cc8-cdf9-4f30-b720-17e0a7c26fb9",
   "metadata": {},
   "outputs": [
    {
     "name": "stdout",
     "output_type": "stream",
     "text": [
      "Hello students, Good morning!\n"
     ]
    }
   ],
   "source": [
    "#2. Write a basic function to greet students.\n",
    "\n",
    "def greet_students():\n",
    "    print(\"Hello students, Good morning!\")\n",
    "    \n",
    "greet_students()"
   ]
  },
  {
   "cell_type": "code",
   "execution_count": null,
   "id": "93021e1c-525b-4cb1-a4bc-506ab18d8083",
   "metadata": {},
   "outputs": [],
   "source": [
    "#3. what is the difference between print and return statements?\n",
    "\n",
    "print statements:- It is used to renderring something on the output screen.\n",
    "return statements:- This statement can only be used inside the function. It is used to sent something from the function to where it is called."
   ]
  },
  {
   "cell_type": "code",
   "execution_count": null,
   "id": "58eec0e6-a074-4538-9701-e04e40b4c1db",
   "metadata": {},
   "outputs": [],
   "source": [
    "#4. What are *args and **kwargs?\n",
    "\n",
    "*args:- It is used to store the multiple arguments passing the function. It stores the data in tuple.\n",
    "**kwargs:- It is used to store the multiple arguments passing by the function but in key-value pair format. It stores the data in dictionary. "
   ]
  },
  {
   "cell_type": "code",
   "execution_count": null,
   "id": "dcfbf163-aceb-4426-b8e6-75ff1e69c9f5",
   "metadata": {},
   "outputs": [],
   "source": [
    "#5. Explain the iterator function.\n",
    "\n",
    "iterator function:- It makes the data iterable, after that only we can perform iterate operation on that data."
   ]
  },
  {
   "cell_type": "code",
   "execution_count": 13,
   "id": "d6d738f5-3eac-4fd0-84e4-888e125a7dd1",
   "metadata": {},
   "outputs": [
    {
     "name": "stdin",
     "output_type": "stream",
     "text": [
      "enter a the value of n :  5\n"
     ]
    },
    {
     "name": "stdout",
     "output_type": "stream",
     "text": [
      "Generating of squares of numbers from 1 to 5 is started\n",
      "1\n",
      "4\n",
      "9\n",
      "16\n",
      "25\n",
      "Generating of squares of numbers from 1 to 5 is started\n"
     ]
    }
   ],
   "source": [
    "#6. Write a code that generates the squares of numbers from 1 to n using a generator.\n",
    "\n",
    "def generates_square(n):\n",
    "    for i in range(1,n+1):\n",
    "        yield i*i\n",
    "        \n",
    "n=int(input(\"enter a the value of n : \"))\n",
    "square=generates_square(n)\n",
    "print(f\"Generating of squares of numbers from 1 to {n} is started\")\n",
    "for i in range(1,n+1):\n",
    "    print(next(square))\n",
    "print(f\"Generating of squares of numbers from 1 to {n} is started\")"
   ]
  },
  {
   "cell_type": "code",
   "execution_count": 14,
   "id": "efb45456-2e21-4b9c-a752-7cc6617a7741",
   "metadata": {},
   "outputs": [
    {
     "name": "stdin",
     "output_type": "stream",
     "text": [
      "enter the value of n :  15\n"
     ]
    },
    {
     "name": "stdout",
     "output_type": "stream",
     "text": [
      "Generating of palindromic number up to 15 is started\n",
      "1\n",
      "2\n",
      "3\n",
      "4\n",
      "5\n",
      "6\n",
      "7\n",
      "8\n",
      "9\n",
      "11\n",
      "Generating of palindromic number up to 15 is completed\n"
     ]
    }
   ],
   "source": [
    "#7. Write a code that generates palindromic numbers up to n using a generator.\n",
    "\n",
    "def generates_palindromic(n):\n",
    "    for i in range(1,n+1):\n",
    "        rev,j=0,i\n",
    "        while j>0:\n",
    "            rev=rev*10+j%10\n",
    "            j//=10\n",
    "        if i==rev:\n",
    "            yield i\n",
    "\n",
    "n=int(input(\"enter the value of n : \"))\n",
    "palindromic=generates_palindromic(n)\n",
    "print(f\"Generating of palindromic number up to {n} is started\")\n",
    "try:\n",
    "    while True:\n",
    "        print(next(palindromic))\n",
    "except StopIteration:\n",
    "    print(f\"Generating of palindromic number up to {n} is completed\")"
   ]
  },
  {
   "cell_type": "code",
   "execution_count": 15,
   "id": "bd738adb-46ab-4320-90a9-8d797fe5e77d",
   "metadata": {},
   "outputs": [
    {
     "name": "stdin",
     "output_type": "stream",
     "text": [
      "enter the value of n :  10\n"
     ]
    },
    {
     "name": "stdout",
     "output_type": "stream",
     "text": [
      "Generating of even number from 2 to 10 is started\n",
      "2\n",
      "4\n",
      "6\n",
      "8\n",
      "10\n",
      "Generating of even number from 2 to 10 is completed\n"
     ]
    }
   ],
   "source": [
    "#8. Write a code that generates even numbers from 2 to n using a generator.\n",
    "\n",
    "def generates_even(n):\n",
    "    for i in range(2,n+1):\n",
    "        if i%2==0:\n",
    "            yield i\n",
    "\n",
    "n=int(input(\"enter the value of n : \"))\n",
    "even=generates_even(n)\n",
    "print(f\"Generating of even number from 2 to {n} is started\")\n",
    "try:\n",
    "    while True:\n",
    "        print(next(even))\n",
    "except StopIteration:\n",
    "    print(f\"Generating of even number from 2 to {n} is completed\")"
   ]
  },
  {
   "cell_type": "code",
   "execution_count": 16,
   "id": "59760d74-eb80-4111-a7ee-ca9bbe746ecd",
   "metadata": {},
   "outputs": [
    {
     "name": "stdin",
     "output_type": "stream",
     "text": [
      "enter the value of n :  5\n"
     ]
    },
    {
     "name": "stdout",
     "output_type": "stream",
     "text": [
      "Generating of powers of 2 up to 5 is started\n",
      "1\n",
      "2\n",
      "4\n",
      "8\n",
      "16\n",
      "32\n",
      "Generating of powers of 2 up to 5 is completed\n"
     ]
    }
   ],
   "source": [
    "#9. Write a code that generates powers of two up to n using a generator.\n",
    "\n",
    "def generates_power(n):\n",
    "    for i in range(n+1):\n",
    "        yield 2**i\n",
    "\n",
    "n=int(input(\"enter the value of n : \"))\n",
    "power=generates_power(n)\n",
    "print(f\"Generating of powers of 2 up to {n} is started\")\n",
    "for i in range(n+1):\n",
    "    print(next(power))\n",
    "print(f\"Generating of powers of 2 up to {n} is completed\")"
   ]
  },
  {
   "cell_type": "code",
   "execution_count": 17,
   "id": "a3d18b49-42ec-4344-a42b-54e457b46c1a",
   "metadata": {},
   "outputs": [
    {
     "name": "stdin",
     "output_type": "stream",
     "text": [
      "enter the value of n :  15\n"
     ]
    },
    {
     "name": "stdout",
     "output_type": "stream",
     "text": [
      "Generating of prime numbers up to 15 is started\n",
      "2\n",
      "3\n",
      "5\n",
      "7\n",
      "11\n",
      "13\n",
      "Generating of prime numbers up to 15 is completed\n"
     ]
    }
   ],
   "source": [
    "#10. Write a code that generates prime numbers up to n using a generator.\n",
    "\n",
    "def generates_prime(n):\n",
    "    for i in range(2,n+1):\n",
    "        for j in range(2,i):\n",
    "            if i%j==0:\n",
    "                break\n",
    "        else:\n",
    "            yield i\n",
    "            \n",
    "n=int(input(\"enter the value of n : \"))\n",
    "prime=generates_prime(n)\n",
    "print(f\"Generating of prime numbers up to {n} is started\")\n",
    "try:\n",
    "    while True:\n",
    "        print(next(prime))\n",
    "except StopIteration:\n",
    "    print(f\"Generating of prime numbers up to {n} is completed\")"
   ]
  },
  {
   "cell_type": "code",
   "execution_count": 18,
   "id": "2bfd9453-dbe1-4cea-96c8-bf57d66662da",
   "metadata": {},
   "outputs": [
    {
     "name": "stdin",
     "output_type": "stream",
     "text": [
      "enter the first number :  10\n",
      "enter the second number :  15\n"
     ]
    },
    {
     "name": "stdout",
     "output_type": "stream",
     "text": [
      "The sum of two number is :  25\n"
     ]
    }
   ],
   "source": [
    "#11. Write a code that uses a lambda function to calculate the sum of two numbers.\n",
    "\n",
    "addition=lambda x,y:x+y\n",
    "first_number=int(input(\"enter the first number : \"))\n",
    "second_number=int(input(\"enter the second number : \"))\n",
    "print(\"The sum of two number is : \",addition(first_number,second_number))"
   ]
  },
  {
   "cell_type": "code",
   "execution_count": 19,
   "id": "b796d820-d9cd-43c4-9ecd-3b71621f6231",
   "metadata": {},
   "outputs": [
    {
     "name": "stdin",
     "output_type": "stream",
     "text": [
      "enter the number :  4\n"
     ]
    },
    {
     "name": "stdout",
     "output_type": "stream",
     "text": [
      "The square of 4 is :  16\n"
     ]
    }
   ],
   "source": [
    "#12. Write a code that uses a lambda function to calculate the square of a given number.\n",
    "\n",
    "square = lambda x : x*x\n",
    "number = int(input(\"enter the number : \"))\n",
    "print(f\"The square of {number} is : \",square(number))"
   ]
  },
  {
   "cell_type": "code",
   "execution_count": 20,
   "id": "e04f7b0a-9729-4b83-9dde-1b2f7094a57d",
   "metadata": {},
   "outputs": [
    {
     "name": "stdin",
     "output_type": "stream",
     "text": [
      "enter the number :  5\n"
     ]
    },
    {
     "name": "stdout",
     "output_type": "stream",
     "text": [
      "5 is :  odd\n"
     ]
    }
   ],
   "source": [
    "#13. Write a code that uses a lambda function to check whether a given number is even or odd.\n",
    "\n",
    "even_odd = lambda n : \"even\" if n%2==0 else \"odd\"\n",
    "number = int(input(\"enter the number : \"))\n",
    "print(f\"{number} is : \",even_odd(number))"
   ]
  },
  {
   "cell_type": "code",
   "execution_count": 21,
   "id": "853ec0c6-e519-4618-9792-6408d4190bf8",
   "metadata": {},
   "outputs": [
    {
     "name": "stdin",
     "output_type": "stream",
     "text": [
      "enter the first string :  thank \n",
      "enter the second string :  you\n"
     ]
    },
    {
     "name": "stdout",
     "output_type": "stream",
     "text": [
      "The concatenation of two strings is :  thank you\n"
     ]
    }
   ],
   "source": [
    "#15. Write a code that uses a lambda function to concatenate two strings.\n",
    "\n",
    "string_concatenation = lambda x,y : x+y\n",
    "first_string=input(\"enter the first string : \")\n",
    "second_string=input(\"enter the second string : \")\n",
    "print(\"The concatenation of two strings is : \",string_concatenation(first_string,second_string))"
   ]
  },
  {
   "cell_type": "code",
   "execution_count": 22,
   "id": "f0eb086e-f72b-4b17-8ab8-79a0b2907b96",
   "metadata": {},
   "outputs": [
    {
     "name": "stdin",
     "output_type": "stream",
     "text": [
      "enter the first number :  2\n",
      "enter the second number :  7\n",
      "enter the third number :  5\n"
     ]
    },
    {
     "name": "stdout",
     "output_type": "stream",
     "text": [
      "The maximum of three numbers is :  7\n"
     ]
    }
   ],
   "source": [
    "#16. Write a code that uses a lambda function to find the maximum of three given numbers.\n",
    "\n",
    "maximum_number = lambda x,y,z : x if x>y and x>z else (y if y>z else z)\n",
    "a = int(input(\"enter the first number : \"))\n",
    "b = int(input(\"enter the second number : \"))\n",
    "c = int(input(\"enter the third number : \"))\n",
    "print(\"The maximum of three numbers is : \",maximum_number(a,b,c))"
   ]
  },
  {
   "cell_type": "code",
   "execution_count": 23,
   "id": "afd7109c-3d71-4cd4-90f9-efb8fbd127fb",
   "metadata": {},
   "outputs": [
    {
     "name": "stdin",
     "output_type": "stream",
     "text": [
      "enter space separated list elements :  8 3 7 6 0 2 1 4 5\n"
     ]
    },
    {
     "name": "stdout",
     "output_type": "stream",
     "text": [
      "Generating of square of even numbers in the list is started\n",
      "64\n",
      "36\n",
      "0\n",
      "4\n",
      "16\n",
      "Generating of square of even numbers in the list is completed\n"
     ]
    }
   ],
   "source": [
    "#17. Write a code that generates the squares of even numbers from a given list.\n",
    "\n",
    "def generates_square_even(l):\n",
    "    for i in l :\n",
    "        if i%2==0:\n",
    "            yield i*i\n",
    "    \n",
    "my_list = list(map(int,input(\"enter space separated list elements : \").strip().split()))\n",
    "square_even = generates_square_even(my_list)\n",
    "print(\"Generating of square of even numbers in the list is started\")\n",
    "try:\n",
    "    while True:\n",
    "        print(next(square_even))\n",
    "except StopIteration:\n",
    "    print(\"Generating of square of even numbers in the list is completed\")"
   ]
  },
  {
   "cell_type": "code",
   "execution_count": 24,
   "id": "6f893ea6-d8ff-4534-b1e1-d6629503a1d2",
   "metadata": {},
   "outputs": [
    {
     "name": "stdin",
     "output_type": "stream",
     "text": [
      "enter space separated list elements :  -9 -2 0 -1 5 7 -4 8\n"
     ]
    },
    {
     "name": "stdout",
     "output_type": "stream",
     "text": [
      "The multiplication of positive numbers in list is :  280\n"
     ]
    }
   ],
   "source": [
    "#18. Write a code that calculates the product of positive numbers from a given list.\n",
    "\n",
    "my_list = list(map(int,input(\"enter space separated list elements : \").strip().split()))\n",
    "mul=1\n",
    "for i in my_list:\n",
    "    if i>0:\n",
    "        mul*=i\n",
    "print(\"The multiplication of positive numbers in list is : \",mul)"
   ]
  },
  {
   "cell_type": "code",
   "execution_count": 25,
   "id": "3c07745c-e1e6-482e-a20a-0bf1f415686d",
   "metadata": {},
   "outputs": [
    {
     "name": "stdin",
     "output_type": "stream",
     "text": [
      "enter space separated list elements :  5 7 9 7 8 4 3 6 1 2 0\n"
     ]
    },
    {
     "name": "stdout",
     "output_type": "stream",
     "text": [
      "The new generated list is :  [10, 14, 18, 14, 8, 4, 6, 6, 2, 2, 0]\n"
     ]
    }
   ],
   "source": [
    "#19. Write a code that doubles the values of odd numbers from a given list.\n",
    "\n",
    "my_list = list(map(int,input(\"enter space separated list elements : \").strip().split()))\n",
    "for i in range(len(my_list)):\n",
    "    if my_list[i]%2!=0:\n",
    "        my_list[i]*=2\n",
    "print(\"The new generated list is : \",my_list)"
   ]
  },
  {
   "cell_type": "code",
   "execution_count": 26,
   "id": "e9edd739-a17e-45bd-a9f8-86df6ee37ae5",
   "metadata": {},
   "outputs": [
    {
     "name": "stdin",
     "output_type": "stream",
     "text": [
      "enter space separated list elements :  5 7 9 7 8 4\n"
     ]
    },
    {
     "name": "stdout",
     "output_type": "stream",
     "text": [
      "The sum of cubes of numbers in list is :  2116\n"
     ]
    }
   ],
   "source": [
    "#20. Write a code that calculates the sum of cubes of numbers from a given list.\n",
    "\n",
    "my_list = list(map(int,input(\"enter space separated list elements : \").strip().split()))\n",
    "add=0\n",
    "for i in my_list:\n",
    "    add+=i**3\n",
    "print(\"The sum of cubes of numbers in list is : \",add)"
   ]
  },
  {
   "cell_type": "code",
   "execution_count": 3,
   "id": "0e48f6d7-5ff0-4ce3-89d1-fbead865339a",
   "metadata": {},
   "outputs": [
    {
     "name": "stdin",
     "output_type": "stream",
     "text": [
      "enter space separated list elements :  5 7 9 7 8 4 3 6 1 2 0\n"
     ]
    },
    {
     "name": "stdout",
     "output_type": "stream",
     "text": [
      "The list of filters out prime numbers are :  [5, 7, 7, 3, 1, 2, 0]\n"
     ]
    }
   ],
   "source": [
    "#21. Write a code that filters out prime numbers from a given list.    \n",
    "            \n",
    "my_list = list(map(int,input(\"enter space separated list elements : \").strip().split()))\n",
    "filter_list=[]\n",
    "for i in my_list:\n",
    "    for j in range(2,i):\n",
    "        if i%j==0:\n",
    "            break\n",
    "    else:\n",
    "        filter_list.append(i)\n",
    "print(\"The list of filters out prime numbers are : \",filter_list)"
   ]
  },
  {
   "cell_type": "code",
   "execution_count": 1,
   "id": "e4596928-2bbd-42e1-8d32-cf16943a6e22",
   "metadata": {},
   "outputs": [
    {
     "name": "stdin",
     "output_type": "stream",
     "text": [
      "enter the first number :  10\n",
      "enter the second number :  20\n"
     ]
    },
    {
     "name": "stdout",
     "output_type": "stream",
     "text": [
      "The sum of two number is :  30\n"
     ]
    }
   ],
   "source": [
    "#22. Write a code that uses a lambda function to calculate the sum of two numbers.\n",
    "\n",
    "addition=lambda x,y:x+y\n",
    "first_number=int(input(\"enter the first number : \"))\n",
    "second_number=int(input(\"enter the second number : \"))\n",
    "print(\"The sum of two number is : \",addition(first_number,second_number))"
   ]
  },
  {
   "cell_type": "code",
   "execution_count": 2,
   "id": "401c46f4-5fe0-474f-a32a-2880912fa2f6",
   "metadata": {},
   "outputs": [
    {
     "name": "stdin",
     "output_type": "stream",
     "text": [
      "enter the number :  8\n"
     ]
    },
    {
     "name": "stdout",
     "output_type": "stream",
     "text": [
      "The square of 8 is :  64\n"
     ]
    }
   ],
   "source": [
    "#23. Write a code that uses a lambda function to calculate the square of a given number.\n",
    "\n",
    "square = lambda x : x*x\n",
    "number = int(input(\"enter the number : \"))\n",
    "print(f\"The square of {number} is : \",square(number))"
   ]
  },
  {
   "cell_type": "code",
   "execution_count": 3,
   "id": "b208050d-7e09-46f2-a67d-201bb7ada3bb",
   "metadata": {},
   "outputs": [
    {
     "name": "stdin",
     "output_type": "stream",
     "text": [
      "enter the number :  5\n"
     ]
    },
    {
     "name": "stdout",
     "output_type": "stream",
     "text": [
      "5 is :  odd\n"
     ]
    }
   ],
   "source": [
    "#24. Write a code that uses a lambda function to check whether a given number is even or odd.\n",
    "\n",
    "even_odd = lambda n : \"even\" if n%2==0 else \"odd\"\n",
    "number = int(input(\"enter the number : \"))\n",
    "print(f\"{number} is : \",even_odd(number))"
   ]
  },
  {
   "cell_type": "code",
   "execution_count": 4,
   "id": "e952dddf-fbdb-4ffe-a28d-242207805d49",
   "metadata": {},
   "outputs": [
    {
     "name": "stdin",
     "output_type": "stream",
     "text": [
      "enter the first string :  thank \n",
      "enter the second string :  you\n"
     ]
    },
    {
     "name": "stdout",
     "output_type": "stream",
     "text": [
      "The concatenation of two strings is :  thank you\n"
     ]
    }
   ],
   "source": [
    "#25. Write a code that uses a lambda function to concatenate two strings.\n",
    "\n",
    "string_concatenation = lambda x,y : x+y\n",
    "first_string=input(\"enter the first string : \")\n",
    "second_string=input(\"enter the second string : \")\n",
    "print(\"The concatenation of two strings is : \",string_concatenation(first_string,second_string))"
   ]
  },
  {
   "cell_type": "code",
   "execution_count": 5,
   "id": "70a550fa-2c86-41bf-b800-5b00f480126a",
   "metadata": {},
   "outputs": [
    {
     "name": "stdin",
     "output_type": "stream",
     "text": [
      "enter the first number :  2\n",
      "enter the second number :  7\n",
      "enter the third number :  5\n"
     ]
    },
    {
     "name": "stdout",
     "output_type": "stream",
     "text": [
      "The maximum of three numbers is :  7\n"
     ]
    }
   ],
   "source": [
    "#26. Write a code that uses a lambda function to find the maximum of three given numbers.\n",
    "\n",
    "maximum_number = lambda x,y,z : x if x>y and x>z else (y if y>z else z)\n",
    "a = int(input(\"enter the first number : \"))\n",
    "b = int(input(\"enter the second number : \"))\n",
    "c = int(input(\"enter the third number : \"))\n",
    "print(\"The maximum of three numbers is : \",maximum_number(a,b,c))"
   ]
  },
  {
   "cell_type": "code",
   "execution_count": null,
   "id": "8f078509-eb69-4c6a-8a4a-badc2ba9c601",
   "metadata": {},
   "outputs": [],
   "source": [
    "#27. What is encapsulation in OOP?\n",
    "\n",
    "Encapsulation:- It stores the methods and variables in a single unit. It hides the complex implementation details and we can access the data\n",
    "only through methods and variables. It is very flexible, we can stores related data in a single unit, so that if doing any changes in any \n",
    "part code other part will not be disturbed."
   ]
  },
  {
   "cell_type": "code",
   "execution_count": null,
   "id": "9a1a100f-f4e2-4520-956e-85c226e6c08c",
   "metadata": {},
   "outputs": [],
   "source": [
    "#28. Explain the use of access modifiers in Python classes.\n",
    "\n",
    "\n",
    "In Python, access modifiers are used to define the visibility and accessibility of class members (attributes and methods). While Python does\n",
    "not have strict access control mechanisms like some other languages (e.g., private, protected, and public keywords in Java and C++), it\n",
    "provides a naming convention to indicate the intended level of access. Here are the primary access modifiers used in Python:\n",
    "\n",
    "A. Public Members:\n",
    "\n",
    "i)Public members are accessible from outside the class.\n",
    "ii)By default, all class members in Python are public.\n",
    "iii)Public attributes and methods can be accessed and modified directly.\n",
    "\n",
    "B.Protected Members:\n",
    "\n",
    "i)Protected members are intended to be accessible within the class and by subclasses.\n",
    "ii)Protected members are defined with a single underscore prefix ('_').\n",
    "iii)This is a convention and not enforced by Python; it serves as a hint to developers.\n",
    "\n",
    "C.Private Members:\n",
    "\n",
    "i)Private members are intended to be accessible only within the class.\n",
    "ii)Private members are defined with a double underscore prefix ('__').\n",
    "iii)Python performs name mangling to make it harder to access private members from outside the class."
   ]
  },
  {
   "cell_type": "code",
   "execution_count": null,
   "id": "ccbb644c-3cf8-46da-aa7d-e20434c978a4",
   "metadata": {},
   "outputs": [],
   "source": [
    "#29. What is inheritance in OOP?\n",
    "\n",
    "Inheritance is a core concept in Object-Oriented Programming (OOP) that allows a new class, known as a subclass or derived class, to inherit\n",
    "attributes and methods from an existing class, known as a superclass or base class. Inheritance promotes code reuse and establishes a\n",
    "hierarchical relationship between classes, facilitating the creation of more complex and specialized behavior based on existing functionality.\n",
    "\n",
    "There are mainly five types of inheritanse in the python:\n",
    "    \n",
    "i)Single Inheritance: A subclass inherits from a single superclass.\n",
    "    \n",
    "ii)Multiple Inheritance: A subclass inherits from multiple superclasses.    \n",
    "\n",
    "iii)Multilevel Inheritance: A subclass inherits from another subclass.\n",
    "\n",
    "iv)Hierarchical Inheritance: Multiple subclasses inherit from a single superclass.\n",
    "    \n",
    "v)Hybrid Inheritance: A combination of two or more types of inheritance."
   ]
  },
  {
   "cell_type": "code",
   "execution_count": null,
   "id": "20e7e01f-ea40-439e-826e-2bdf62a65534",
   "metadata": {},
   "outputs": [],
   "source": [
    "#30. define polymorphism in OOP.\n",
    "\n",
    "polymorphism:- It allows many forms of same name methods.\n",
    "\n",
    "Types of Polymorphism:\n",
    "    \n",
    "a. Compile-Time Polymorphism (Static Polymorphism):\n",
    "\n",
    "i)Achieved through method overloading and operator overloading.\n",
    "ii)Determined at compile time.\n",
    "iii)Not natively supported in Python but available in languages like Java and C++.\n",
    "\n",
    "b. Run-Time Polymorphism (Dynamic Polymorphism):\n",
    "\n",
    "i)Achieved through method overriding.\n",
    "ii)Determined at runtime.\n",
    "iii)Supported by Python and many other OOP languages."
   ]
  },
  {
   "cell_type": "code",
   "execution_count": null,
   "id": "5efee0d5-74e4-4af3-a317-70545f1a1e56",
   "metadata": {},
   "outputs": [],
   "source": [
    "#31. Explain method overriding in Python.\n",
    "\n",
    "Method Overriding:\n",
    "\n",
    "when a class has a method which's name and number of parameters are same as it's super class then, it is called Method Overriding."
   ]
  },
  {
   "cell_type": "code",
   "execution_count": 6,
   "id": "766e7892-0158-4481-9d60-a958773bc864",
   "metadata": {},
   "outputs": [
    {
     "name": "stdout",
     "output_type": "stream",
     "text": [
      "Generic animal sound\n",
      "Woof!\n"
     ]
    }
   ],
   "source": [
    "#32. define a parent class Animal with a method make_sound that prints \"Generic animal sound\". Create a child class Dog inheriting from animal with a method make_sound that prints \"Woof!\".\n",
    "\n",
    "class Animal :\n",
    "    def make_sound(self):\n",
    "        print(\"Generic animal sound\")\n",
    "    \n",
    "class Dog (Animal) :\n",
    "    def make_sound(self):\n",
    "        print(\"Woof!\")\n",
    "        \n",
    "animal=Animal()\n",
    "animal.make_sound()\n",
    "dog=Dog()\n",
    "dog.make_sound()"
   ]
  },
  {
   "cell_type": "code",
   "execution_count": 7,
   "id": "eff6bd5b-2b7f-4007-b41a-e314d0c0f889",
   "metadata": {},
   "outputs": [
    {
     "name": "stdout",
     "output_type": "stream",
     "text": [
      "Animal moves\n",
      "Dog runs\n"
     ]
    }
   ],
   "source": [
    "#33. define a method move in the Animal class that prints \"Animal moves\". Override the move method in the dog class to print \"Dog runs.\"\n",
    "\n",
    "class Animal :\n",
    "    def move(self):\n",
    "        print(\"Animal moves\")\n",
    "    \n",
    "class Dog (Animal) :\n",
    "    def move(self):\n",
    "        print(\"Dog runs\")\n",
    "        \n",
    "animal=Animal()\n",
    "animal.move()\n",
    "dog=Dog()\n",
    "dog.move()"
   ]
  },
  {
   "cell_type": "code",
   "execution_count": 8,
   "id": "559a24e1-8ecd-4e62-a9e2-e907b1083c5a",
   "metadata": {},
   "outputs": [
    {
     "name": "stdout",
     "output_type": "stream",
     "text": [
      "Giving birth to live young.\n"
     ]
    }
   ],
   "source": [
    "#34. Create a class Mammal with a method reproduce that prints \"Giving birth to live young.\" Create a class DogMammal inheriting from both Dog and Mammal.\n",
    "\n",
    "class Mammal:\n",
    "    def reproduce(self) :\n",
    "        print(\"Giving birth to live young.\")\n",
    "class Dog:\n",
    "    pass\n",
    "class DogMammal (Dog,Mammal):\n",
    "    pass\n",
    "\n",
    "dogmammal=DogMammal()\n",
    "dogmammal.reproduce()"
   ]
  },
  {
   "cell_type": "code",
   "execution_count": 9,
   "id": "4d38efc2-2623-4436-a8cd-c556239ff304",
   "metadata": {},
   "outputs": [
    {
     "name": "stdout",
     "output_type": "stream",
     "text": [
      "Bark!\n"
     ]
    }
   ],
   "source": [
    "#35. Ceate a class Germanshepherd inheriting from Dog and override the make_sound method to print \"Bark!\"\n",
    "\n",
    "class Dog:\n",
    "    def make_sound(self):\n",
    "        pass\n",
    "        \n",
    "class Germanshepherd (Dog):\n",
    "    def make_sound(self):\n",
    "        print(\"Bark!\")\n",
    "    \n",
    "germanshepherd=Germanshepherd()\n",
    "germanshepherd.make_sound()"
   ]
  },
  {
   "cell_type": "code",
   "execution_count": 10,
   "id": "f20926df-76d4-4e0d-a8e5-7b4547ee9e79",
   "metadata": {},
   "outputs": [
    {
     "name": "stdout",
     "output_type": "stream",
     "text": [
      "Generic animal sound\n",
      "Woof!\n"
     ]
    }
   ],
   "source": [
    "#36. define constructors in both the Animal and Dog classes with different initialization parameters.\n",
    "\n",
    "class Animal :\n",
    "    def __init__(self,Animal_sound):\n",
    "        self.Animal_sound = Animal_sound\n",
    "    \n",
    "class Dog (Animal) :\n",
    "    def __init__(self,Dog_sound):\n",
    "        self.Dog_sound = Dog_sound\n",
    "        \n",
    "animal=Animal(\"Generic animal sound\")\n",
    "print(animal.Animal_sound)\n",
    "dog=Dog(\"Woof!\")\n",
    "print(dog.Dog_sound)"
   ]
  },
  {
   "cell_type": "code",
   "execution_count": 13,
   "id": "d456d513-1d13-454b-8950-f9bcaee2ccac",
   "metadata": {},
   "outputs": [
    {
     "name": "stdout",
     "output_type": "stream",
     "text": [
      "Bark\n",
      "The animal moves\n",
      "Meow\n",
      "The animal moves\n"
     ]
    }
   ],
   "source": [
    "#37. What is abstraction in Python? How is it implemented?\n",
    "\n",
    "abstraction:- Abstraction in Python, and in programming in general, is a concept that involves hiding the complex implementation details and\n",
    "showing only the essential features of an object. It allows developers to focus on interacting with objects at a high level without worrying\n",
    "about the underlying complexity.\n",
    "\n",
    "Implementation of abstraction :\n",
    "\n",
    "import abc\n",
    "\n",
    "class Animal:\n",
    "    @abc.abstractmethod\n",
    "    def make_sound(self):\n",
    "        pass\n",
    "    def move(self):\n",
    "        print(\"The animal moves\")\n",
    "\n",
    "class Dog(Animal):\n",
    "    def make_sound(self):\n",
    "        print(\"Bark\")\n",
    "\n",
    "class Cat(Animal):\n",
    "    def make_sound(self):\n",
    "        print(\"Meow\")\n",
    "\n",
    "dog = Dog()\n",
    "cat = Cat()\n",
    "\n",
    "dog.make_sound()  \n",
    "dog.move()        \n",
    "\n",
    "cat.make_sound()  \n",
    "cat.move()        \n"
   ]
  },
  {
   "cell_type": "code",
   "execution_count": null,
   "id": "0fb2ba19-49bf-4d43-b8a3-a0e4cf4c3f7e",
   "metadata": {},
   "outputs": [],
   "source": [
    "#38. Explain the importance of abstraction in object-oriented programming.\n",
    "\n",
    "Abstraction in object-oriented programming (OOP) is a core principle that involves hiding complex implementation details and exposing only\n",
    "essential features. This concept is crucial for several reasons:\n",
    "\n",
    "i)Simplification and Manageability: Abstraction reduces complexity by breaking down systems into manageable pieces, allowing developers to\n",
    "focus on high-level functionalities without worrying about the underlying details.\n",
    "\n",
    "ii)Enhanced Reusability: By defining clear interfaces and abstract classes, code can be reused across different parts of a system, promoting\n",
    "consistency and reducing redundancy.\n",
    "\n",
    "iii)Improved Maintainability: Abstraction isolates changes. If the implementation of a feature changes, the interface remains the same,\n",
    "minimizing the impact on the rest of the system and making the code easier to maintain.\n",
    "\n",
    "iv)Increased Flexibility and Scalability: Systems designed with abstraction can be easily extended with new functionality without modifying\n",
    "existing code, enhancing flexibility and scalability.\n",
    "\n",
    "v)Encapsulation: Abstraction supports encapsulation by hiding the internal workings of objects and exposing only what is necessary, reducing\n",
    "the risk of interference and misuse.\n",
    "\n",
    "vi)Collaboration and Division of Labor: In large projects, abstraction allows different team members to work on separate components\n",
    "independently, promoting efficient collaboration.\n",
    "\n",
    "In summary, abstraction is vital in OOP because it simplifies complex systems, enhances code reusability and maintainability, increases\n",
    "flexibility, supports encapsulation, and facilitates better collaboration among developers."
   ]
  },
  {
   "cell_type": "code",
   "execution_count": 15,
   "id": "b3ece480-c01f-44ec-bc1c-84952c2286b0",
   "metadata": {},
   "outputs": [
    {
     "name": "stdout",
     "output_type": "stream",
     "text": [
      "None\n",
      "None\n",
      "3 lack\n",
      "1 lack\n"
     ]
    }
   ],
   "source": [
    "#39. How are abstract methods different from regular methods in Python?\n",
    "\n",
    "i)Definition: Abstract methods use the '@abstractmethod' decorator and lack implementation, whereas regular methods have full implementations.\n",
    "ii)Purpose: Abstract methods define a required interface for subclasses, while regular methods provide functionality that can be used directly.\n",
    "iii)Instantiation: Classes with abstract methods cannot be instantiated directly; their subclasses must implement the abstract methods first. \n",
    "iv)Classes with only regular methods can be instantiated without restriction.\n",
    "v)Class Type: Abstract methods are defined in abstract classes (subclasses of ABC), while regular methods can be defined in any class.\n",
    "\n",
    "import abc\n",
    "class Car:\n",
    "    @abc.abstractmethod\n",
    "    def maximum_price(self):\n",
    "        pass\n",
    "    def minimum_price(self):\n",
    "         pass\n",
    "class Nano (Car):\n",
    "    def minimum_price(self,val):\n",
    "        return str(val)+\" lack\"\n",
    "    def maximum_price(self,val):\n",
    "        return str(val)+\" lack\"\n",
    "\n",
    "car = Car()\n",
    "print(car.maximum_price())\n",
    "print(car.minimum_price())\n",
    "nano = Nano()\n",
    "print(nano.maximum_price(3))\n",
    "print(nano.minimum_price(1))"
   ]
  },
  {
   "cell_type": "code",
   "execution_count": null,
   "id": "054725ac-f8c4-4897-aa80-b065bf1a587d",
   "metadata": {},
   "outputs": [],
   "source": [
    "#40. How can you achieve abstraction using interfaces in Python?\n",
    "\n",
    "Abstraction in Python can be achieved using interfaces, which help in defining the blueprint of a class without implementing its methods. \n",
    "While Python does not have a built-in interface feature like some other languages (e.g., Java), you can use abstract base classes (ABCs) \n",
    "from the abc module to create interfaces. Here is how you can achieve abstraction using interfaces in Python:\n",
    "\n",
    "i)Import the abc module: This module provides the infrastructure for defining abstract base classes.\n",
    "\n",
    "ii)Create an abstract base class: Define a class that inherits from ABC and use the @abstractmethod decorator to declare methods that must be implemented by any concrete subclass.\n",
    "\n",
    "iii)Define abstract methods: These methods are declared in the abstract base class but do not provide any implementation.\n",
    "\n",
    "iv)Implement the interface in concrete classes: Subclasses must implement all abstract methods defined in the abstract base class.\n",
    "\n"
   ]
  },
  {
   "cell_type": "code",
   "execution_count": 14,
   "id": "1105be20-f6ef-454a-9bf9-146aa1a29cde",
   "metadata": {},
   "outputs": [
    {
     "name": "stdout",
     "output_type": "stream",
     "text": [
      "Area: 6\n",
      "Perimeter: 10\n",
      "Area: 3.14159\n",
      "Perimeter: 6.28318\n"
     ]
    }
   ],
   "source": [
    "#41. How Can you provide an example of how abstraction can be utilized to create a common interface for a group of related classes in Python?\n",
    "\n",
    "from abc import ABC, abstractmethod\n",
    "\n",
    "# Define the interface using an abstraction utilization\n",
    "\n",
    "class Shape(ABC):\n",
    "    \n",
    "    @abstractmethod\n",
    "    def area(self):\n",
    "        pass\n",
    "\n",
    "    @abstractmethod\n",
    "    def perimeter(self):\n",
    "        pass\n",
    "\n",
    "\n",
    "# Implementing the group of related class\n",
    "\n",
    "class Rectangle(Shape):\n",
    "    \n",
    "    def __init__(self, width, height):\n",
    "        self.width = width\n",
    "        self.height = height\n",
    "\n",
    "    def area(self):\n",
    "        return self.width * self.height\n",
    "\n",
    "    def perimeter(self):\n",
    "        return 2 * (self.width + self.height)\n",
    "\n",
    "class Circle(Shape):\n",
    "    \n",
    "    def __init__(self, radius):\n",
    "        self.radius = radius\n",
    "\n",
    "    def area(self):\n",
    "        return 3.14159 * self.radius ** 2\n",
    "\n",
    "    def perimeter(self):\n",
    "        return 2 * 3.14159 * self.radius\n",
    "\n",
    "    \n",
    "# Example usage\n",
    "shapes = [Rectangle(2, 3), Circle(1)]\n",
    "\n",
    "for shape in shapes:\n",
    "    print(f\"Area: {shape.area()}\")\n",
    "    print(f\"Perimeter: {shape.perimeter()}\")\n"
   ]
  },
  {
   "cell_type": "code",
   "execution_count": null,
   "id": "51f14760-ea9b-46e0-8917-c01032adac12",
   "metadata": {},
   "outputs": [],
   "source": [
    "#42. How does Python achieve polymorphism through method overriding?\n",
    "\n",
    "Polymorphism in Python is achieved through method overriding, which allows a subclass to provide a specific implementation of a method that \n",
    "is already defined in its superclass. This enables objects of different classes to be treated uniformly based on a shared interface or \n",
    "method signature, while each class provides its own behavior.\n",
    "\n",
    "Here's a brief overview of how method overriding achieves polymorphism:\n",
    "\n",
    "i)Inheritance: A subclass inherits methods and attributes from a superclass.\n",
    "ii)Method Overriding: The subclass redefines a method from the superclass, providing its own implementation.\n",
    "iii)Dynamic Method Resolution: At runtime, Python resolves method calls based on the actual object's class, even if the object is referenced\n",
    "by a variable of the superclass type."
   ]
  },
  {
   "cell_type": "code",
   "execution_count": 3,
   "id": "4911a939-8d13-4171-ba40-5bff990ad9c2",
   "metadata": {},
   "outputs": [
    {
     "name": "stdout",
     "output_type": "stream",
     "text": [
      "overriden method of sub class\n"
     ]
    },
    {
     "ename": "TypeError",
     "evalue": "subclass.method() missing 1 required positional argument: 'value'",
     "output_type": "error",
     "traceback": [
      "\u001b[0;31m---------------------------------------------------------------------------\u001b[0m",
      "\u001b[0;31mTypeError\u001b[0m                                 Traceback (most recent call last)",
      "Cell \u001b[0;32mIn[3], line 13\u001b[0m\n\u001b[1;32m     11\u001b[0m sbclass \u001b[38;5;241m=\u001b[39m subclass()\n\u001b[1;32m     12\u001b[0m sbclass\u001b[38;5;241m.\u001b[39mmethod(\u001b[38;5;124m\"\u001b[39m\u001b[38;5;124msub\u001b[39m\u001b[38;5;124m\"\u001b[39m)\n\u001b[0;32m---> 13\u001b[0m \u001b[43msbclass\u001b[49m\u001b[38;5;241;43m.\u001b[39;49m\u001b[43mmethod\u001b[49m\u001b[43m(\u001b[49m\u001b[43m)\u001b[49m\n",
      "\u001b[0;31mTypeError\u001b[0m: subclass.method() missing 1 required positional argument: 'value'"
     ]
    }
   ],
   "source": [
    "#43. define a base class with a method and a subclass that overrides the method.\n",
    "\n",
    "class base:\n",
    "    def method(self):\n",
    "        print(\"normal method of base class\")\n",
    "        \n",
    "class subclass (base):\n",
    "    def method(self,value):\n",
    "        print(f\"overriden method of {value} class\")\n",
    "        \n",
    "sbclass = subclass()\n",
    "sbclass.method(\"sub\")\n",
    "sbclass.method()"
   ]
  },
  {
   "cell_type": "code",
   "execution_count": 5,
   "id": "86429705-0f98-42bd-8838-3addba4448c3",
   "metadata": {},
   "outputs": [
    {
     "name": "stdout",
     "output_type": "stream",
     "text": [
      "overriden method of subclass : 1\n",
      "overriden method of subclass : 2\n",
      "overriden method of subclass : 3\n"
     ]
    }
   ],
   "source": [
    "#44. define a base class and multiple subclasses with overridden methods.\n",
    "\n",
    "class base:\n",
    "    def method(self):\n",
    "        print(\"normal method base class\")\n",
    "        \n",
    "class subclass1 (base):\n",
    "    def method(self,value):\n",
    "        print(f\"overriden method of subclass : {value}\")\n",
    "        \n",
    "class subclass2 (base):\n",
    "    def method(self,value):\n",
    "        print(f\"overriden method of subclass : {value}\")\n",
    "        \n",
    "class subclass3 (base):\n",
    "    def method(self,value):\n",
    "        print(f\"overriden method of subclass : {value}\")\n",
    "        \n",
    "sbclass1 = subclass1()\n",
    "sbclass1.method(1)\n",
    "sbclass2 = subclass2()\n",
    "sbclass2.method(2)\n",
    "sbclass3 = subclass3()\n",
    "sbclass3.method(3)"
   ]
  },
  {
   "cell_type": "code",
   "execution_count": null,
   "id": "2c8f4ba3-f3cb-43cf-81f2-b3fdddf628a2",
   "metadata": {},
   "outputs": [],
   "source": [
    "#45. How does polymorphism improve code readability and reusability?\n",
    "\n",
    "Code Readability:\n",
    "    \n",
    "i)Unified Interface: Polymorphism allows objects of different classes to be treated through a common interface. This means that you can \n",
    "write code that works with objects of various types in a consistent way, making the code easier to understand and maintain.\n",
    "ii)Reduced Conditional Logic: Without polymorphism, you might need extensive conditional statements to handle different types of objects. \n",
    "Polymorphism eliminates these conditionals, as the correct method is called based on the object's type.\n",
    "iii)Abstraction: Polymorphism works well with abstraction, allowing developers to focus on high-level operations without needing to know the\n",
    "details of the specific object types. This separation of concerns leads to cleaner and more understandable code.\n",
    "\n",
    "Code Reusability:\n",
    "    \n",
    "i)Extensibility: New classes can be added with minimal changes to the existing code. As long as new classes adhere to the common interface, \n",
    "they can be used interchangeably with existing ones.\n",
    "ii)Code Reuse: Methods and functions designed to work with a superclass can be reused with any subclass, reducing duplication and promoting \n",
    "the DRY (Don't Repeat Yourself) principle.\n",
    "iii)Modularity: Polymorphic designs encourage modular code. Classes are often designed to be self-contained units with specific behaviors, \n",
    "which can be reused across different parts of an application or even across different projects."
   ]
  },
  {
   "cell_type": "code",
   "execution_count": null,
   "id": "70c4dad0-b348-4bac-826d-8980b9523b69",
   "metadata": {},
   "outputs": [],
   "source": [
    "#46. describe how Python supports polymorphism with duck typing.\n",
    "\n",
    "Dynamic Typing:\n",
    "\n",
    "Python is dynamically typed, meaning you do not need to declare the type of a variable when you create one. This allows variables to change \n",
    "types over time and enables the use of different objects interchangeably as long as they support the required behavior.\n",
    "\n",
    "Method Overriding:\n",
    "\n",
    "Different classes can have methods with the same name. These methods can perform different tasks depending on the class. This allows\n",
    "different objects to be used interchangeably if they implement a method with the same name, supporting polymorphism.\n",
    "\n",
    "Common Interface:\n",
    "\n",
    "Objects are expected to have certain methods, but they do not need to inherit from the same parent class. As long as the methods exist, \n",
    "objects can be used polymorphically."
   ]
  },
  {
   "cell_type": "code",
   "execution_count": null,
   "id": "a969fb1b-ed82-4c8f-8e47-eadad9fb70f1",
   "metadata": {},
   "outputs": [],
   "source": [
    "#47. How do you achieve encapsulation in Python?\n",
    "\n",
    "Encapsulation in Python is achieved by restricting access to certain methods and attributes of an object to ensure that the internal \n",
    "representation of the object is hidden from the outside. This is done to protect the integrity of the data and to prevent accidental or\n",
    "unauthorized modifications. Encapsulation is one of the fundamental principles of object-oriented programming.\n",
    "\n",
    "Here are the primary ways to achieve encapsulation in Python:\n",
    "\n",
    "1. Private Attributes and Methods:\n",
    "By convention, attributes and methods intended to be private (not accessed outside the class) are prefixed with an underscore '_' (single \n",
    "underscore). However, this is only a convention and does not prevent access. To make attributes truly private, you can use a double \n",
    "underscore '__' (double underscore) prefix, which triggers name mangling.\n",
    "\n",
    "2. Properties (Getters and Setters):\n",
    "Properties provide a way to control access to an attribute by defining getter, setter, and deleter methods. This allows for encapsulation \n",
    "and additional logic when accessing or modifying attributes.\n",
    "\n",
    "3. Custom Access Methods:\n",
    "Encapsulation can also be enforced by using custom access methods instead of direct attribute access. This way, the internal state of the\n",
    "object can be protected, and access can be controlled through public methods."
   ]
  },
  {
   "cell_type": "code",
   "execution_count": null,
   "id": "7c3fe354-ad34-4ca2-a8c7-030761134ee0",
   "metadata": {},
   "outputs": [],
   "source": [
    "#48. Can encapsulation be bypassed in Python? If so, how?\n",
    "\n",
    "Yes, encapsulation in Python can be bypassed due to the language's dynamic and flexible nature. While Python provides mechanisms to suggest\n",
    "and enforce encapsulation, it does not strictly enforce it. Here are some ways encapsulation can be bypassed:\n",
    "\n",
    "1. Accessing \"Protected\" Attributes and Methods:\n",
    "Attributes and methods prefixed with a single underscore '_' are considered protected by convention, meaning they should not be accessed \n",
    "outside their class or subclasses. However, this is merely a convention and not enforced by the language.\n",
    "\n",
    "2. Accessing \"Private\" Attributes and Methods:\n",
    "Attributes and methods prefixed with a double underscore '__' trigger name mangling, making them harder to access from outside the class.\n",
    "However, they can still be accessed by knowing the mangled name.\n",
    "\n",
    "3. Using getattr and setattr:\n",
    "Python's built-in functions getattr and setattr can be used to access and modify protected and private attributes.\n",
    "\n",
    "4. Using Inspect Module:\n",
    "The inspect module can be used to introspect and access private and protected attributes."
   ]
  },
  {
   "cell_type": "code",
   "execution_count": 15,
   "id": "eefa117b-f999-421a-a280-2be42fdc7416",
   "metadata": {},
   "outputs": [
    {
     "name": "stdout",
     "output_type": "stream",
     "text": [
      "500\n",
      "1500\n",
      "750\n",
      "entered amount is greater than your balance amount\n"
     ]
    }
   ],
   "source": [
    "#49. Implement a class BankAccount with a private balance attribute. Include methods to deposit, withdraw, and check the balance.\n",
    "\n",
    "class BankAccount:\n",
    "    def __init__(self,amount):\n",
    "        self.__balance=amount\n",
    "\n",
    "    def check_balance(self):\n",
    "        return self.__balance\n",
    "\n",
    "    def deposit_balance(self,amount):\n",
    "        self.__balance+=amount\n",
    "        \n",
    "    def withdraw_balance(self,amount):\n",
    "        if self.__balance>=amount:\n",
    "            self.__balance-=amount\n",
    "        else:\n",
    "            print(\"entered amount is greater than your balance amount\")\n",
    "\n",
    "bankAccount = BankAccount(500)\n",
    "print(bankAccount.check_balance())\n",
    "bankAccount.deposit_balance(1000)\n",
    "print(bankAccount.check_balance())\n",
    "bankAccount.withdraw_balance(750)\n",
    "print(bankAccount.check_balance())\n",
    "bankAccount.withdraw_balance(850)"
   ]
  },
  {
   "cell_type": "code",
   "execution_count": 16,
   "id": "15f6a11c-c795-4915-9016-f3e00341ca42",
   "metadata": {},
   "outputs": [
    {
     "name": "stdout",
     "output_type": "stream",
     "text": [
      "maitydebabrata2003@gmail.com\n",
      "maitydebabrata1503@gmail.com\n"
     ]
    }
   ],
   "source": [
    "#50. Develop a Person class with private attributes name and email, and methods to set and get the email.\n",
    "\n",
    "class Person:\n",
    "    def __init__(self,name,email):\n",
    "        self.__name = name\n",
    "        self.__email = email\n",
    "    \n",
    "    @property\n",
    "    def get_email(self):\n",
    "        return self.__email\n",
    "    \n",
    "    @get_email.setter\n",
    "    def set_email(self,email):\n",
    "        self.__email = email\n",
    "        \n",
    "person = Person(\"DEBABRATA MAITY\",\"maitydebabrata2003@gmail.com\")\n",
    "print(person.get_email)\n",
    "person.set_email = \"maitydebabrata1503@gmail.com\"\n",
    "print(person.get_email)"
   ]
  },
  {
   "cell_type": "code",
   "execution_count": null,
   "id": "a6fcebca-aa12-4981-af7b-68ee93a5081a",
   "metadata": {},
   "outputs": [],
   "source": [
    "#51. Why is encapsulation considered a pillar of object-oriented programming (OOP)?\n",
    "\n",
    "Encapsulation is a fundamental pillar of object-oriented programming (OOP) that involves bundling the data (attributes) and methods \n",
    "(functions) that operate on the data into a single unit, typically a class, and restricting access to some of the object's components. \n",
    "This is achieved by:\n",
    "\n",
    "i)Data Hiding: Internal state and implementation details are hidden from the outside world, preventing unauthorized access and modification.\n",
    "Attributes can be made private using a double underscore ('__'), which triggers name mangling.\n",
    "\n",
    "ii)Controlled Access: Public methods (getters and setters) are provided to access and modify the private data, ensuring controlled and \n",
    "validated interaction with the object's state.\n",
    "\n",
    "iii)Modularity and Maintainability: Encapsulation helps in organizing code into modular, self-contained units, making it easier to understand,\n",
    "maintain, and modify without affecting other parts of the program.\n",
    "\n",
    "iv)Abstraction: By exposing only necessary parts of the object and hiding the complexity, encapsulation promotes abstraction, allowing users to\n",
    "interact with objects at a higher level."
   ]
  },
  {
   "cell_type": "code",
   "execution_count": 17,
   "id": "7468baa2-e5fc-44f7-aa2c-d73e319e6537",
   "metadata": {},
   "outputs": [
    {
     "name": "stdout",
     "output_type": "stream",
     "text": [
      "before the execution\n",
      "function is executing now!\n",
      "after the execution\n"
     ]
    }
   ],
   "source": [
    "#52. Create a decorator in Python that adds functionality to a simple function by printing a message before  and after the function execution.\n",
    "\n",
    "def f_decorator(func):\n",
    "    def decorated():\n",
    "        print(\"before the execution\")\n",
    "        func()\n",
    "        print(\"after the execution\")\n",
    "    return decorated\n",
    "\n",
    "@f_decorator\n",
    "def my_func():\n",
    "    print(\"function is executing now!\")\n",
    "    \n",
    "my_func()"
   ]
  },
  {
   "cell_type": "code",
   "execution_count": 18,
   "id": "c81894e8-796a-48d3-842c-c6d883040f46",
   "metadata": {},
   "outputs": [
    {
     "name": "stdout",
     "output_type": "stream",
     "text": [
      "before the execution\n",
      "The function name is : my_func\n",
      "function is executing now!\n",
      "after the execution\n"
     ]
    }
   ],
   "source": [
    "#53. Modify the decorator to accept arguments and print the function name along with the message.\n",
    "\n",
    "def f_decorator(func_name,message):\n",
    "    def decorated(func):\n",
    "        print(\"before the execution\")\n",
    "        print(message+func_name)\n",
    "        func()\n",
    "        print(\"after the execution\")\n",
    "    return decorated\n",
    "\n",
    "@f_decorator(\"my_func\",\"The function name is : \")\n",
    "def my_func():\n",
    "    print(\"function is executing now!\")\n",
    "    "
   ]
  },
  {
   "cell_type": "code",
   "execution_count": 19,
   "id": "ff2233a4-4ffd-403a-95cf-4a685bcbf248",
   "metadata": {},
   "outputs": [
    {
     "name": "stdout",
     "output_type": "stream",
     "text": [
      "f1 execution started\n",
      "f2 execution started\n",
      "function is executing now!\n",
      "f2 execution completed\n",
      "f1 execution completed\n"
     ]
    }
   ],
   "source": [
    "#54. Create two decorators, and apply them to a single function. Ensure that they execute in the order they are applied.\n",
    "\n",
    "def f1_decorator(func):\n",
    "    def decorated():\n",
    "        print(\"f1 execution started\")\n",
    "        func()\n",
    "        print(\"f1 execution completed\")\n",
    "    return decorated\n",
    "\n",
    "def f2_decorator(func):\n",
    "    def decorated():\n",
    "        print(\"f2 execution started\")\n",
    "        func()\n",
    "        print(\"f2 execution completed\")\n",
    "    return decorated\n",
    "\n",
    "@f1_decorator \n",
    "@f2_decorator\n",
    "def my_func():\n",
    "    print(\"function is executing now!\")\n",
    "    \n",
    "my_func()"
   ]
  },
  {
   "cell_type": "code",
   "execution_count": 20,
   "id": "18e48a52-9969-4aa1-8ac4-8f4b7cfc6e93",
   "metadata": {},
   "outputs": [
    {
     "name": "stdout",
     "output_type": "stream",
     "text": [
      "before the execution\n",
      "my_func function is executing now!\n",
      "after the execution\n"
     ]
    }
   ],
   "source": [
    "#55. Modify the decorator to accept and pass function arguments to the wrapped function.\n",
    "\n",
    "def f_decorator(func):\n",
    "    def wrapped(arg):\n",
    "        print(\"before the execution\")\n",
    "        func(arg)\n",
    "        print(\"after the execution\")\n",
    "    return wrapped\n",
    "\n",
    "@f_decorator\n",
    "def my_func(arg):\n",
    "    print(arg,\"function is executing now!\")\n",
    "    \n",
    "my_func(\"my_func\")"
   ]
  },
  {
   "cell_type": "code",
   "execution_count": 21,
   "id": "13ee1f73-80cd-48c8-bd23-7fef4814506d",
   "metadata": {},
   "outputs": [
    {
     "name": "stdout",
     "output_type": "stream",
     "text": [
      "my_function\n",
      "This is my function's docstring.\n",
      "Before calling the function\n",
      "After calling the function\n",
      "7\n"
     ]
    }
   ],
   "source": [
    "#56. Create a decorator that preserves the metadata of the original function.\n",
    "\n",
    "import functools\n",
    "\n",
    "def my_decorator(func):\n",
    "    @functools.wraps(func)\n",
    "    def wrapper(*args, **kwargs):\n",
    "        print(\"Before calling the function\")\n",
    "        result = func(*args, **kwargs)\n",
    "        print(\"After calling the function\")\n",
    "        return result\n",
    "    return wrapper\n",
    "\n",
    "# Using the decorator\n",
    "@my_decorator\n",
    "def my_function(x, y):\n",
    "    \"\"\"This is my function's docstring.\"\"\"\n",
    "    return x + y\n",
    "\n",
    "# Checking metadata\n",
    "print(my_function.__name__)        # Output: my_function\n",
    "print(my_function.__doc__)         # Output: This is my function's docstring.\n",
    "print(my_function(3, 4))           # Output: Before calling the function\n",
    "                                   #          After calling the function\n",
    "                                   #          7\n"
   ]
  },
  {
   "cell_type": "code",
   "execution_count": 22,
   "id": "5cc5b1cc-97fb-4d0d-b8c1-1b9478521222",
   "metadata": {},
   "outputs": [
    {
     "data": {
      "text/plain": [
       "5"
      ]
     },
     "execution_count": 22,
     "metadata": {},
     "output_type": "execute_result"
    }
   ],
   "source": [
    "#57. Create a Python class `Calculator` with a static method `add` that takes in two numbers and returns their sum.\n",
    "\n",
    "class Calculator:\n",
    "    @staticmethod\n",
    "    def add(x,y):\n",
    "        return x+y\n",
    "    \n",
    "Calculator.add(2,3)"
   ]
  },
  {
   "cell_type": "code",
   "execution_count": 23,
   "id": "54e3b818-8dbf-467b-b770-9548ebe9647d",
   "metadata": {},
   "outputs": [
    {
     "name": "stdout",
     "output_type": "stream",
     "text": [
      "1\n",
      "2\n",
      "3\n"
     ]
    }
   ],
   "source": [
    "#58. Create a Python class `Employee` with a class `method get_employee_count` that returns the total number of employees created.\n",
    "\n",
    "class Employee:\n",
    "    number_of_employees = 0\n",
    "    \n",
    "    def __init__(self,name):\n",
    "        self.name=name\n",
    "        Employee.number_of_employees+=1\n",
    "        \n",
    "    def get_employee_count(self):\n",
    "        return self.number_of_employees\n",
    "    \n",
    "empl1 = Employee(\"ajay\")\n",
    "print(empl1.get_employee_count())\n",
    "empl2 = Employee(\"vijay\")\n",
    "print(empl2.get_employee_count())\n",
    "empl3 = Employee(\"jay\")\n",
    "print(empl3.get_employee_count())"
   ]
  },
  {
   "cell_type": "code",
   "execution_count": 24,
   "id": "a04636c3-bdc9-4867-9f3f-53b68fe0f8f8",
   "metadata": {},
   "outputs": [
    {
     "name": "stdout",
     "output_type": "stream",
     "text": [
      "uoy knaht\n"
     ]
    }
   ],
   "source": [
    "#59. Create a Python class `Stringformatter` with a static method `reverse_string` that takes a string as input and returns its reverse.\n",
    "\n",
    "class Stringformatter:\n",
    "    @staticmethod\n",
    "    def reverse_string(string):\n",
    "        return string[::-1]\n",
    "    \n",
    "print(Stringformatter.reverse_string(\"thank you\"))"
   ]
  },
  {
   "cell_type": "code",
   "execution_count": 25,
   "id": "fe8e9e83-c78a-4e64-acee-877217e89cac",
   "metadata": {},
   "outputs": [
    {
     "name": "stdout",
     "output_type": "stream",
     "text": [
      "78.5\n"
     ]
    }
   ],
   "source": [
    "#60. Create a Python class `Circle` with a class method `calculate_area` that calculates the area of a circle given its radius.\n",
    "\n",
    "class Circle:\n",
    "    radius = 5\n",
    "    def calculate_area(self):\n",
    "        return 3.14*self.radius*self.radius\n",
    "    \n",
    "circle = Circle()\n",
    "print(circle.calculate_area())"
   ]
  },
  {
   "cell_type": "code",
   "execution_count": 26,
   "id": "b26a936e-6348-4c45-8894-17a2b096d7f6",
   "metadata": {},
   "outputs": [
    {
     "data": {
      "text/plain": [
       "212.0"
      ]
     },
     "execution_count": 26,
     "metadata": {},
     "output_type": "execute_result"
    }
   ],
   "source": [
    "#61. Create a Python class `TemperatureConverter` with a static method `celsius_to_fahrenheit` that converts Celsius to fahrenheit.\n",
    "\n",
    "class TemperatureConverter:\n",
    "    @staticmethod\n",
    "    def celsius_to_fahrenheit(celsius):\n",
    "        return celsius*1.8+32\n",
    "    \n",
    "TemperatureConverter.celsius_to_fahrenheit(100)"
   ]
  },
  {
   "cell_type": "code",
   "execution_count": 28,
   "id": "4402f100-86b6-4999-a6eb-60f868d90ef9",
   "metadata": {},
   "outputs": [
    {
     "name": "stdout",
     "output_type": "stream",
     "text": [
      "It is an incompatible type class\n"
     ]
    }
   ],
   "source": [
    "#62. What is the purpose of the __str__() method in Python classes? Provide an example.\n",
    "\n",
    "This method will be excuted when we use 'print()' function on a class or instance, it can only returns string type data. we can modify it's implementation.\n",
    "\n",
    "class String:\n",
    "    def __str__(self):\n",
    "        return \"It is an incompatible type class\"\n",
    "    \n",
    "string = String()\n",
    "print(string)"
   ]
  },
  {
   "cell_type": "code",
   "execution_count": 9,
   "id": "f7ad2c70-9beb-4881-bf2b-f9b3c28d116d",
   "metadata": {},
   "outputs": [
    {
     "name": "stdout",
     "output_type": "stream",
     "text": [
      "2\n"
     ]
    }
   ],
   "source": [
    "#63. How does the __len__() method work in Python? Provide an example.\n",
    "\n",
    "This method will be excuted when we use 'len()' function on a class or instance, it can only returns integer type data. we can modify it's implementation.\n",
    "\n",
    "class String:\n",
    "    def __len__(self):\n",
    "        return 2\n",
    "    \n",
    "string = String()\n",
    "print(len(string))"
   ]
  },
  {
   "cell_type": "code",
   "execution_count": 5,
   "id": "e9218b5d-cf08-4db8-baec-999cb08667ff",
   "metadata": {},
   "outputs": [
    {
     "name": "stdout",
     "output_type": "stream",
     "text": [
      "5\n",
      "thank you\n",
      "10\n"
     ]
    }
   ],
   "source": [
    "#64. Explain the usage of the __add__() method in Python classes. Provide an example.\n",
    "\n",
    "This method will be excuted when we use '+' operator between two same type of data, also can apply two object of a class. It's default work is to\n",
    "perform addition but we can modify it's implementation.\n",
    "\n",
    "data1,data2 = 2,3\n",
    "print(data1.__add__(data2))\n",
    "data1,data2 = \"thank \",\"you\"\n",
    "print(data1.__add__(data2))\n",
    "\n",
    "class data:\n",
    "    def __init__(self,value):\n",
    "        self.value = value\n",
    "        \n",
    "    def __add__(self,other):\n",
    "        return self.value-other.value\n",
    "    \n",
    "Data1 = data(20)\n",
    "Data2 = data(10)\n",
    "print(Data1.__add__(Data2))"
   ]
  },
  {
   "cell_type": "code",
   "execution_count": 10,
   "id": "5f2ad5ed-0842-4997-b3f7-515f0247e7c2",
   "metadata": {},
   "outputs": [
    {
     "name": "stdout",
     "output_type": "stream",
     "text": [
      "1\n",
      "3\n",
      "[2, 3, 4]\n"
     ]
    }
   ],
   "source": [
    "#65. What is the purpose of the __getitem__() method in Python? Provide an example.\n",
    "\n",
    "The __getitem__() method in Python is a special method that allows instances of a class to be accessed using the indexing notation ([]). This method\n",
    "enables objects to support indexing and slicing operations, providing a way to access elements or values stored within the object.\n",
    "\n",
    "class MyList:\n",
    "    def __init__(self, data):\n",
    "        self.data = data\n",
    "\n",
    "    def __getitem__(self, index):\n",
    "        return self.data[index]\n",
    "\n",
    "# Usage\n",
    "my_list = MyList([1, 2, 3, 4, 5])\n",
    "\n",
    "# Accessing elements using indexing\n",
    "print(my_list[0])   # Output: 1\n",
    "print(my_list[2])   # Output: 3\n",
    "\n",
    "# Slicing\n",
    "print(my_list[1:4])  # Output: [2, 3, 4]\n"
   ]
  },
  {
   "cell_type": "code",
   "execution_count": 6,
   "id": "61ee46e9-35d7-4cb8-ade3-9e04fa563147",
   "metadata": {},
   "outputs": [
    {
     "name": "stdout",
     "output_type": "stream",
     "text": [
      "0\n",
      "1\n",
      "2\n",
      "3\n",
      "4\n",
      "5\n",
      "6\n",
      "7\n",
      "8\n",
      "9\n"
     ]
    }
   ],
   "source": [
    "#66. Explain the usage of the __iter__() and __next__() methods in Python. Provide an example using iterators.\n",
    "\n",
    "__iter__():- It converts the normal data to iterable data so we can use them according to our need, we can also use this method by calling 'iter()'\n",
    "this function.\n",
    "\n",
    "__next__():- It returns the iterable data one by one,  we can also use this method by calling 'next()' this function.\n",
    "\n",
    "r = range(10).__iter__()\n",
    "for i in range(10):\n",
    "    print(r.__next__())"
   ]
  },
  {
   "cell_type": "code",
   "execution_count": null,
   "id": "affac70f-4cc0-4bf7-8933-776983d04bb5",
   "metadata": {},
   "outputs": [],
   "source": [
    "#67. What is the purpose of a getter method in Python? Provide an example demonstrating the use of a getter method using property decorators.\n",
    "\n",
    "The purpose of a getter method in Python is to retrieve the value of a private or protected attribute from outside the class. Getter methods\n",
    "provide controlled access to an attribute, allowing you to include logic for validation, transformation, or logging whenever the attribute \n",
    "is accessed. This helps in maintaining encapsulation and ensuring that the internal state of an object is not directly accessible and \n",
    "potentially modified inappropriately.\n",
    "\n",
    "In Python, getter methods can be elegantly implemented using property decorators. The @property decorator allows you to define a method as a\n",
    "property, which can be accessed like an attribute, thus providing a clean and intuitive interface for users of the class.\n",
    "\n",
    "class Circle:\n",
    "    def __init__(self, radius):\n",
    "        self._radius = radius  # Protected attribute by convention\n",
    "\n",
    "    @property\n",
    "    def radius(self):\n",
    "        return self._radius\n",
    "\n",
    "    @radius.setter\n",
    "    def radius(self, value):\n",
    "        if value > 0:\n",
    "            self._radius = value\n",
    "        else:\n",
    "            raise ValueError(\"Radius must be positive\")\n",
    "\n",
    "    @property\n",
    "    def area(self):\n",
    "        import math\n",
    "        return math.pi * (self._radius ** 2)\n",
    "\n",
    "# Usage\n",
    "circle = Circle(5)\n",
    "print(circle.radius)  # Accessing the radius using the getter method\n",
    "print(circle.area)    # Accessing the area, calculated from the radius\n",
    "\n",
    "circle.radius = 10    # Setting a new value for the radius\n",
    "print(circle.radius)  # Accessing the updated radius\n",
    "print(circle.area)    # Accessing the updated area\n",
    "\n",
    "# circle.radius = -5  # This would raise a ValueError: Radius must be positive\n"
   ]
  },
  {
   "cell_type": "code",
   "execution_count": null,
   "id": "ee5348a3-6b9d-43a5-bb17-76676ab27a14",
   "metadata": {},
   "outputs": [],
   "source": [
    "#68. Explain the role of setter methods in Python. Demonstrate how to use a setter method to modify a class attribute using property decorators.\n",
    "\n",
    "Setter methods in Python are used to control and validate the modification of an attribute's value. They allow you to define custom logic \n",
    "that is executed whenever an attribute's value is set, which can include validation checks, transformations, or other side effects. This \n",
    "helps maintain data integrity and enforces any constraints on the attribute's value.\n",
    "\n",
    "In Python, setter methods can be implemented using property decorators. The @property decorator is used to define a getter method, and the \n",
    "@property_name.setter decorator is used to define a corresponding setter method.\n",
    "\n",
    "class Person:\n",
    "    def __init__(self, name, age):\n",
    "        self._name = name\n",
    "        self._age = age\n",
    "\n",
    "    @property\n",
    "    def name(self):\n",
    "        return self._name\n",
    "\n",
    "    @name.setter\n",
    "    def name(self, value):\n",
    "        if isinstance(value, str) and value.strip():\n",
    "            self._name = value\n",
    "        else:\n",
    "            raise ValueError(\"Name must be a non-empty string\")\n",
    "\n",
    "    @property\n",
    "    def age(self):\n",
    "        return self._age\n",
    "\n",
    "    @age.setter\n",
    "    def age(self, value):\n",
    "        if isinstance(value, int) and 0 <= value <= 120:\n",
    "            self._age = value\n",
    "        else:\n",
    "            raise ValueError(\"Age must be an integer between 0 and 120\")\n",
    "\n",
    "# Usage\n",
    "person = Person(\"Alice\", 30)\n",
    "\n",
    "# Accessing attributes\n",
    "print(person.name)  # Output: Alice\n",
    "print(person.age)   # Output: 30\n",
    "\n",
    "# Modifying attributes using setter methods\n",
    "person.name = \"Bob\"\n",
    "person.age = 35\n",
    "\n",
    "print(person.name)  # Output: Bob\n",
    "print(person.age)   # Output: 35\n",
    "\n",
    "# Attempting to set invalid values\n",
    "try:\n",
    "    person.name = \"\"  # Raises ValueError: Name must be a non-empty string\n",
    "except ValueError as e:\n",
    "    print(e)\n",
    "\n",
    "try:\n",
    "    person.age = 150  # Raises ValueError: Age must be an integer between 0 and 120\n",
    "except ValueError as e:\n",
    "    print(e)\n"
   ]
  },
  {
   "cell_type": "code",
   "execution_count": null,
   "id": "358df5a7-cbf3-4195-b294-29ab9f66a9a0",
   "metadata": {},
   "outputs": [],
   "source": [
    "#69. What is the purpose of the @property decorator in Python? Provide an example illustrating its usage.\n",
    "\n",
    "The @property decorator in Python is used to define methods in a class that behave like attributes, allowing controlled access to the values\n",
    "of private or protected attributes. The @property decorator makes a method callable like an attribute, enabling encapsulation and the \n",
    "addition of custom logic for getting, setting, and deleting attributes without changing the external interface of the class.\n",
    "\n",
    "Purpose of the @property Decorator:\n",
    "i)Encapsulation: Protects the internal state of an object by controlling access to its attributes.\n",
    "ii)Validation: Allows validation or transformation of data before it is accessed or modified.\n",
    "iii)Readability: Provides a clean and intuitive way to interact with object attributes, making the code more readable.\n",
    "iv)Abstraction: Hides the internal implementation details from the user, exposing only necessary parts of the object's interface.\n",
    "\n",
    "class Rectangle:\n",
    "    def __init__(self, width, height):\n",
    "        self._width = width\n",
    "        self._height = height\n",
    "\n",
    "    @property\n",
    "    def width(self):\n",
    "        return self._width\n",
    "\n",
    "    @width.setter\n",
    "    def width(self, value):\n",
    "        if value > 0:\n",
    "            self._width = value\n",
    "        else:\n",
    "            raise ValueError(\"Width must be positive\")\n",
    "\n",
    "    @property\n",
    "    def height(self):\n",
    "        return self._height\n",
    "\n",
    "    @height.setter\n",
    "    def height(self, value):\n",
    "        if value > 0:\n",
    "            self._height = value\n",
    "        else:\n",
    "            raise ValueError(\"Height must be positive\")\n",
    "\n",
    "    @property\n",
    "    def area(self):\n",
    "        return self._width * self._height\n",
    "\n",
    "    @property\n",
    "    def perimeter(self):\n",
    "        return 2 * (self._width + self._height)\n",
    "\n",
    "# Usage\n",
    "rect = Rectangle(4, 5)\n",
    "\n",
    "# Accessing properties\n",
    "print(f\"Width: {rect.width}\")        # Output: Width: 4\n",
    "print(f\"Height: {rect.height}\")      # Output: Height: 5\n",
    "print(f\"Area: {rect.area}\")          # Output: Area: 20\n",
    "print(f\"Perimeter: {rect.perimeter}\")# Output: Perimeter: 18\n",
    "\n",
    "# Modifying properties\n",
    "rect.width = 6\n",
    "rect.height = 8\n",
    "\n",
    "# Accessing modified properties\n",
    "print(f\"Width: {rect.width}\")        # Output: Width: 6\n",
    "print(f\"Height: {rect.height}\")      # Output: Height: 8\n",
    "print(f\"Area: {rect.area}\")          # Output: Area: 48\n",
    "print(f\"Perimeter: {rect.perimeter}\")# Output: Perimeter: 28\n",
    "\n",
    "# Attempting to set invalid values\n",
    "try:\n",
    "    rect.width = -1  # Raises ValueError: Width must be positive\n",
    "except ValueError as e:\n",
    "    print(e)\n",
    "\n",
    "try:\n",
    "    rect.height = -2  # Raises ValueError: Height must be positive\n",
    "except ValueError as e:\n",
    "    print(e)\n"
   ]
  },
  {
   "cell_type": "code",
   "execution_count": null,
   "id": "56af192c-0d9c-4fa7-9cb8-5f55dc5054e2",
   "metadata": {},
   "outputs": [],
   "source": [
    "#70. Explain the use of the @deleter decorator in Python property decorators. Provide a code example demonstrating its application.\n",
    "\n",
    "The @deleter decorator in Python is used in conjunction with the @property decorator to define a method that deletes a property. It allows\n",
    "you to control and customize the deletion of an attribute, providing a way to include cleanup operations or enforce certain constraints when\n",
    "an attribute is deleted.\n",
    "\n",
    "Purpose of the @deleter Decorator:\n",
    "i)Controlled Deletion: Provides a controlled way to delete an attribute, ensuring that any necessary cleanup or validation logic is executed.\n",
    "ii)encapsulation: Maintains encapsulation by managing attribute deletion through a public interface.\n",
    "iii)Abstraction: Hides the internal details of how an attribute is deleted, offering a clear and intuitive way to delete an attribute from \n",
    "the outside.\n",
    "\n",
    "class Person:\n",
    "    def __init__(self, name, age):\n",
    "        self._name = name\n",
    "        self._age = age\n",
    "\n",
    "    @property\n",
    "    def name(self):\n",
    "        return self._name\n",
    "\n",
    "    @name.setter\n",
    "    def name(self, value):\n",
    "        if isinstance(value, str) and value.strip():\n",
    "            self._name = value\n",
    "        else:\n",
    "            raise ValueError(\"Name must be a non-empty string\")\n",
    "\n",
    "    @name.deleter\n",
    "    def name(self):\n",
    "        print(\"Deleting name...\")\n",
    "        del self._name\n",
    "\n",
    "    @property\n",
    "    def age(self):\n",
    "        return self._age\n",
    "\n",
    "    @age.setter\n",
    "    def age(self, value):\n",
    "        if isinstance(value, int) and 0 <= value <= 120:\n",
    "            self._age = value\n",
    "        else:\n",
    "            raise ValueError(\"Age must be an integer between 0 and 120\")\n",
    "\n",
    "    @age.deleter\n",
    "    def age(self):\n",
    "        print(\"Deleting age...\")\n",
    "        del self._age\n",
    "\n",
    "# Usage\n",
    "person = Person(\"Alice\", 30)\n",
    "\n",
    "# Accessing properties\n",
    "print(person.name)  # Output: Alice\n",
    "print(person.age)   # Output: 30\n",
    "\n",
    "# Modifying properties\n",
    "person.name = \"Bob\"\n",
    "person.age = 35\n",
    "\n",
    "print(person.name)  # Output: Bob\n",
    "print(person.age)   # Output: 35\n",
    "\n",
    "# Deleting properties using deleter methods\n",
    "del person.name     # Output: Deleting name...\n",
    "del person.age      # Output: Deleting age...\n",
    "\n",
    "# Attempting to access deleted properties will raise AttributeError\n",
    "try:\n",
    "    print(person.name)\n",
    "except AttributeError as e:\n",
    "    print(e)  # Output: 'Person' object has no attribute '_name'\n",
    "\n",
    "try:\n",
    "    print(person.age)\n",
    "except AttributeError as e:\n",
    "    print(e)  # Output: 'Person' object has no attribute '_age'\n"
   ]
  },
  {
   "cell_type": "code",
   "execution_count": null,
   "id": "2d359ed8-ef4d-44ae-a483-967b4db22187",
   "metadata": {},
   "outputs": [],
   "source": [
    "#71. How does encapsulation relate to property decorators in Python? Provide an example showcasing encapsulation using property decorators.\n",
    "\n",
    "Encapsulation is a key concept in object-oriented programming (OOP) that involves bundling the data (attributes) and methods (functions) that operate\n",
    "on the data into a single unit, typically a class, and restricting access to some of the object's components. This is to prevent the accidental or\n",
    "unauthorized manipulation of an object's state.\n",
    "\n",
    "In Python, property decorators (@property, @<property>.setter, and @<property>.deleter) provide a way to implement encapsulation. They allow for the\n",
    "control over how attributes are accessed and modified, ensuring that data integrity is maintained.\n",
    "\n",
    "How Property Decorators Relate to Encapsulation:\n",
    "i)Controlled Access: Property decorators allow you to control access to an object's attributes by defining getter, setter, and deleter methods. \n",
    "This means you can include logic to validate, transform, or restrict access to the attributes.\n",
    "ii)Abstraction: By using property decorators, you can abstract the internal representation of data from how it is accessed and modified, exposing a \n",
    "clean and user-friendly interface.\n",
    "iii)Data Hiding: Internal attributes can be kept private (using a naming convention or name mangling), and only the property methods are exposed, thus\n",
    "hiding the internal implementation details from the user.\n",
    "\n",
    "class Employee:\n",
    "    def __init__(self, name, salary):\n",
    "        self._name = name          # Protected attribute by convention\n",
    "        self._salary = salary      # Protected attribute by convention\n",
    "\n",
    "    @property\n",
    "    def name(self):\n",
    "        return self._name\n",
    "\n",
    "    @name.setter\n",
    "    def name(self, value):\n",
    "        if isinstance(value, str) and value.strip():\n",
    "            self._name = value\n",
    "        else:\n",
    "            raise ValueError(\"Name must be a non-empty string\")\n",
    "\n",
    "    @property\n",
    "    def salary(self):\n",
    "        return self._salary\n",
    "\n",
    "    @salary.setter\n",
    "    def salary(self, value):\n",
    "        if value > 0:\n",
    "            self._salary = value\n",
    "        else:\n",
    "            raise ValueError(\"Salary must be a positive number\")\n",
    "\n",
    "    @property\n",
    "    def yearly_bonus(self):\n",
    "        return self._salary * 0.10\n",
    "\n",
    "# Usage\n",
    "employee = Employee(\"John Doe\", 50000)\n",
    "\n",
    "# Accessing properties\n",
    "print(employee.name)          # Output: John Doe\n",
    "print(employee.salary)        # Output: 50000\n",
    "print(employee.yearly_bonus)  # Output: 5000.0\n",
    "\n",
    "# Modifying properties\n",
    "employee.name = \"Jane Doe\"\n",
    "employee.salary = 60000\n",
    "\n",
    "print(employee.name)          # Output: Jane Doe\n",
    "print(employee.salary)        # Output: 60000\n",
    "print(employee.yearly_bonus)  # Output: 6000.0\n",
    "\n",
    "# Attempting to set invalid values\n",
    "try:\n",
    "    employee.name = \"\"        # Raises ValueError: Name must be a non-empty string\n",
    "except ValueError as e:\n",
    "    print(e)\n",
    "\n",
    "try:\n",
    "    employee.salary = -10000  # Raises ValueError: Salary must be a positive number\n",
    "except ValueError as e:\n",
    "    print(e)\n"
   ]
  }
 ],
 "metadata": {
  "kernelspec": {
   "display_name": "Python 3 (ipykernel)",
   "language": "python",
   "name": "python3"
  },
  "language_info": {
   "codemirror_mode": {
    "name": "ipython",
    "version": 3
   },
   "file_extension": ".py",
   "mimetype": "text/x-python",
   "name": "python",
   "nbconvert_exporter": "python",
   "pygments_lexer": "ipython3",
   "version": "3.10.8"
  }
 },
 "nbformat": 4,
 "nbformat_minor": 5
}
